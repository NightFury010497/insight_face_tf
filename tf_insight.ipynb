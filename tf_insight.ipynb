{
  "nbformat": 4,
  "nbformat_minor": 0,
  "metadata": {
    "colab": {
      "name": "tf_insight.ipynb",
      "provenance": []
    },
    "kernelspec": {
      "name": "python3",
      "display_name": "Python 3"
    }
  },
  "cells": [
    {
      "cell_type": "markdown",
      "metadata": {
        "id": "JKzgOMmkadOg",
        "colab_type": "text"
      },
      "source": [
        "**Cloning the Repo!**"
      ]
    },
    {
      "cell_type": "code",
      "metadata": {
        "id": "ugpBrNeD9OcP",
        "colab_type": "code",
        "colab": {
          "base_uri": "https://localhost:8080/",
          "height": 86
        },
        "outputId": "5f3ef4be-e68c-4143-d6f1-424078bf0702"
      },
      "source": [
        "!git clone https://github.com/luckycallor/InsightFace-tensorflow"
      ],
      "execution_count": 1,
      "outputs": [
        {
          "output_type": "stream",
          "text": [
            "Cloning into 'InsightFace-tensorflow'...\n",
            "remote: Enumerating objects: 91, done.\u001b[K\n",
            "remote: Total 91 (delta 0), reused 0 (delta 0), pack-reused 91\u001b[K\n",
            "Unpacking objects:   1% (1/91)   \rUnpacking objects:   2% (2/91)   \rUnpacking objects:   3% (3/91)   \rUnpacking objects:   4% (4/91)   \rUnpacking objects:   5% (5/91)   \rUnpacking objects:   6% (6/91)   \rUnpacking objects:   7% (7/91)   \rUnpacking objects:   8% (8/91)   \rUnpacking objects:   9% (9/91)   \rUnpacking objects:  10% (10/91)   \rUnpacking objects:  12% (11/91)   \rUnpacking objects:  13% (12/91)   \rUnpacking objects:  14% (13/91)   \rUnpacking objects:  15% (14/91)   \rUnpacking objects:  16% (15/91)   \rUnpacking objects:  17% (16/91)   \rUnpacking objects:  18% (17/91)   \rUnpacking objects:  19% (18/91)   \rUnpacking objects:  20% (19/91)   \rUnpacking objects:  21% (20/91)   \rUnpacking objects:  23% (21/91)   \rUnpacking objects:  24% (22/91)   \rUnpacking objects:  25% (23/91)   \rUnpacking objects:  26% (24/91)   \rUnpacking objects:  27% (25/91)   \rUnpacking objects:  28% (26/91)   \rUnpacking objects:  29% (27/91)   \rUnpacking objects:  30% (28/91)   \rUnpacking objects:  31% (29/91)   \rUnpacking objects:  32% (30/91)   \rUnpacking objects:  34% (31/91)   \rUnpacking objects:  35% (32/91)   \rUnpacking objects:  36% (33/91)   \rUnpacking objects:  37% (34/91)   \rUnpacking objects:  38% (35/91)   \rUnpacking objects:  39% (36/91)   \rUnpacking objects:  40% (37/91)   \rUnpacking objects:  41% (38/91)   \rUnpacking objects:  42% (39/91)   \rUnpacking objects:  43% (40/91)   \rUnpacking objects:  45% (41/91)   \rUnpacking objects:  46% (42/91)   \rUnpacking objects:  47% (43/91)   \rUnpacking objects:  48% (44/91)   \rUnpacking objects:  49% (45/91)   \rUnpacking objects:  50% (46/91)   \rUnpacking objects:  51% (47/91)   \rUnpacking objects:  52% (48/91)   \rUnpacking objects:  53% (49/91)   \rUnpacking objects:  54% (50/91)   \rUnpacking objects:  56% (51/91)   \rUnpacking objects:  57% (52/91)   \rUnpacking objects:  58% (53/91)   \rUnpacking objects:  59% (54/91)   \rUnpacking objects:  60% (55/91)   \rUnpacking objects:  61% (56/91)   \rUnpacking objects:  62% (57/91)   \rUnpacking objects:  63% (58/91)   \rUnpacking objects:  64% (59/91)   \rUnpacking objects:  65% (60/91)   \rUnpacking objects:  67% (61/91)   \rUnpacking objects:  68% (62/91)   \rUnpacking objects:  69% (63/91)   \rUnpacking objects:  70% (64/91)   \rUnpacking objects:  71% (65/91)   \rUnpacking objects:  72% (66/91)   \rUnpacking objects:  73% (67/91)   \rUnpacking objects:  74% (68/91)   \rUnpacking objects:  75% (69/91)   \rUnpacking objects:  76% (70/91)   \rUnpacking objects:  78% (71/91)   \rUnpacking objects:  79% (72/91)   \rUnpacking objects:  80% (73/91)   \rUnpacking objects:  81% (74/91)   \rUnpacking objects:  82% (75/91)   \rUnpacking objects:  83% (76/91)   \rUnpacking objects:  84% (77/91)   \rUnpacking objects:  85% (78/91)   \rUnpacking objects:  86% (79/91)   \rUnpacking objects:  87% (80/91)   \rUnpacking objects:  89% (81/91)   \rUnpacking objects:  90% (82/91)   \rUnpacking objects:  91% (83/91)   \rUnpacking objects:  92% (84/91)   \rUnpacking objects:  93% (85/91)   \rUnpacking objects:  94% (86/91)   \rUnpacking objects:  95% (87/91)   \rUnpacking objects:  96% (88/91)   \rUnpacking objects:  97% (89/91)   \rUnpacking objects:  98% (90/91)   \rUnpacking objects: 100% (91/91)   \rUnpacking objects: 100% (91/91), done.\n"
          ],
          "name": "stdout"
        }
      ]
    },
    {
      "cell_type": "markdown",
      "metadata": {
        "id": "OkSrvoDlamgE",
        "colab_type": "text"
      },
      "source": [
        "**Basic Installations**"
      ]
    },
    {
      "cell_type": "code",
      "metadata": {
        "id": "O9ClipPq-hDV",
        "colab_type": "code",
        "colab": {
          "base_uri": "https://localhost:8080/",
          "height": 294
        },
        "outputId": "518cd96c-bff2-4533-fd54-88ce1535260d"
      },
      "source": [
        "!pip install mxnet\n"
      ],
      "execution_count": 4,
      "outputs": [
        {
          "output_type": "stream",
          "text": [
            "Collecting mxnet\n",
            "\u001b[?25l  Downloading https://files.pythonhosted.org/packages/81/f5/d79b5b40735086ff1100c680703e0f3efc830fa455e268e9e96f3c857e93/mxnet-1.6.0-py2.py3-none-any.whl (68.7MB)\n",
            "\u001b[K     |████████████████████████████████| 68.7MB 56kB/s \n",
            "\u001b[?25hRequirement already satisfied: requests<3,>=2.20.0 in /usr/local/lib/python3.6/dist-packages (from mxnet) (2.23.0)\n",
            "Requirement already satisfied: numpy<2.0.0,>1.16.0 in /usr/local/lib/python3.6/dist-packages (from mxnet) (1.18.4)\n",
            "Collecting graphviz<0.9.0,>=0.8.1\n",
            "  Downloading https://files.pythonhosted.org/packages/53/39/4ab213673844e0c004bed8a0781a0721a3f6bb23eb8854ee75c236428892/graphviz-0.8.4-py2.py3-none-any.whl\n",
            "Requirement already satisfied: idna<3,>=2.5 in /usr/local/lib/python3.6/dist-packages (from requests<3,>=2.20.0->mxnet) (2.9)\n",
            "Requirement already satisfied: urllib3!=1.25.0,!=1.25.1,<1.26,>=1.21.1 in /usr/local/lib/python3.6/dist-packages (from requests<3,>=2.20.0->mxnet) (1.24.3)\n",
            "Requirement already satisfied: chardet<4,>=3.0.2 in /usr/local/lib/python3.6/dist-packages (from requests<3,>=2.20.0->mxnet) (3.0.4)\n",
            "Requirement already satisfied: certifi>=2017.4.17 in /usr/local/lib/python3.6/dist-packages (from requests<3,>=2.20.0->mxnet) (2020.4.5.1)\n",
            "Installing collected packages: graphviz, mxnet\n",
            "  Found existing installation: graphviz 0.10.1\n",
            "    Uninstalling graphviz-0.10.1:\n",
            "      Successfully uninstalled graphviz-0.10.1\n",
            "Successfully installed graphviz-0.8.4 mxnet-1.6.0\n"
          ],
          "name": "stdout"
        }
      ]
    },
    {
      "cell_type": "code",
      "metadata": {
        "id": "Fiv29Rtn_ApU",
        "colab_type": "code",
        "colab": {
          "base_uri": "https://localhost:8080/",
          "height": 34
        },
        "outputId": "5e79f4e3-d17f-4b59-ee96-246b43d61654"
      },
      "source": [
        "%tensorflow_version 1.x"
      ],
      "execution_count": 8,
      "outputs": [
        {
          "output_type": "stream",
          "text": [
            "TensorFlow 1.x selected.\n"
          ],
          "name": "stdout"
        }
      ]
    },
    {
      "cell_type": "code",
      "metadata": {
        "id": "shMqfOYJ_5Gx",
        "colab_type": "code",
        "colab": {
          "base_uri": "https://localhost:8080/",
          "height": 225
        },
        "outputId": "4b20a42c-20cf-4988-eaa0-dd957beb1f9a"
      },
      "source": [
        "!pip install scipy==1.1.0"
      ],
      "execution_count": 12,
      "outputs": [
        {
          "output_type": "stream",
          "text": [
            "Collecting scipy==1.1.0\n",
            "\u001b[?25l  Downloading https://files.pythonhosted.org/packages/a8/0b/f163da98d3a01b3e0ef1cab8dd2123c34aee2bafbb1c5bffa354cc8a1730/scipy-1.1.0-cp36-cp36m-manylinux1_x86_64.whl (31.2MB)\n",
            "\u001b[K     |████████████████████████████████| 31.2MB 141kB/s \n",
            "\u001b[?25hRequirement already satisfied: numpy>=1.8.2 in /usr/local/lib/python3.6/dist-packages (from scipy==1.1.0) (1.18.4)\n",
            "\u001b[31mERROR: umap-learn 0.4.2 has requirement scipy>=1.3.1, but you'll have scipy 1.1.0 which is incompatible.\u001b[0m\n",
            "\u001b[31mERROR: plotnine 0.6.0 has requirement scipy>=1.2.0, but you'll have scipy 1.1.0 which is incompatible.\u001b[0m\n",
            "\u001b[31mERROR: albumentations 0.1.12 has requirement imgaug<0.2.7,>=0.2.5, but you'll have imgaug 0.2.9 which is incompatible.\u001b[0m\n",
            "Installing collected packages: scipy\n",
            "  Found existing installation: scipy 1.4.1\n",
            "    Uninstalling scipy-1.4.1:\n",
            "      Successfully uninstalled scipy-1.4.1\n",
            "Successfully installed scipy-1.1.0\n"
          ],
          "name": "stdout"
        }
      ]
    },
    {
      "cell_type": "markdown",
      "metadata": {
        "id": "naMXQxO4agxI",
        "colab_type": "text"
      },
      "source": [
        "**I added my own dataset.**"
      ]
    },
    {
      "cell_type": "code",
      "metadata": {
        "id": "2IYUCHxk9t53",
        "colab_type": "code",
        "colab": {}
      },
      "source": [
        "!unzip /content/dataset.zip"
      ],
      "execution_count": 0,
      "outputs": []
    },
    {
      "cell_type": "markdown",
      "metadata": {
        "id": "XyAxMqJ2auuA",
        "colab_type": "text"
      },
      "source": [
        "**generating tf_record from folders following the same struture as advised by the author of the repo!**"
      ]
    },
    {
      "cell_type": "code",
      "metadata": {
        "id": "CT343uhG9t1D",
        "colab_type": "code",
        "colab": {
          "base_uri": "https://localhost:8080/",
          "height": 104
        },
        "outputId": "3e836e1c-f4d6-4f0c-f061-42641a67099a"
      },
      "source": [
        "!python /content/InsightFace-tensorflow/data/generateTFRecord.py --mode=folders --image_size=112 --read_dir=/content/dataset/ --save_path=/content/data.tfrecord"
      ],
      "execution_count": 13,
      "outputs": [
        {
          "output_type": "stream",
          "text": [
            "write tfrecord from folders...\n",
            "WARNING:tensorflow:From /content/InsightFace-tensorflow/data/classificationDataTool.py:80: The name tf.python_io.TFRecordWriter is deprecated. Please use tf.io.TFRecordWriter instead.\n",
            "\n",
            "done![183/183]\n",
            "class num: 20\n"
          ],
          "name": "stdout"
        }
      ]
    },
    {
      "cell_type": "markdown",
      "metadata": {
        "id": "5QkhvAHObfHL",
        "colab_type": "text"
      },
      "source": [
        "**validatoion files!**"
      ]
    },
    {
      "cell_type": "code",
      "metadata": {
        "id": "0IC5SX8Y9tvt",
        "colab_type": "code",
        "colab": {
          "base_uri": "https://localhost:8080/",
          "height": 228
        },
        "outputId": "4e229e6e-3667-465c-d748-88a6b13b0641"
      },
      "source": [
        "!wget https://uc545715ae569892cd8af4541d42.dl.dropboxusercontent.com/cd/0/get/A32bom4_xaVkjHQtpp1czv-t25rDPfegcHfEvzrshpZ0t8rTrP-NwKrs6rvYJcpeVFFcL8dNnelIyMSTOE-SPKhVhoauNK5WTyOeFo3iVUlf8w/file?_download_id=346808255851965499072072587377564530689523884605705987209136955651&_notify_domain=www.dropbox.com&dl=1"
      ],
      "execution_count": 14,
      "outputs": [
        {
          "output_type": "stream",
          "text": [
            "--2020-05-16 15:04:44--  https://uc545715ae569892cd8af4541d42.dl.dropboxusercontent.com/cd/0/get/A32bom4_xaVkjHQtpp1czv-t25rDPfegcHfEvzrshpZ0t8rTrP-NwKrs6rvYJcpeVFFcL8dNnelIyMSTOE-SPKhVhoauNK5WTyOeFo3iVUlf8w/file?_download_id=346808255851965499072072587377564530689523884605705987209136955651\n",
            "Resolving uc545715ae569892cd8af4541d42.dl.dropboxusercontent.com (uc545715ae569892cd8af4541d42.dl.dropboxusercontent.com)... 162.125.1.6, 2620:100:6016:6::a27d:106\n",
            "Connecting to uc545715ae569892cd8af4541d42.dl.dropboxusercontent.com (uc545715ae569892cd8af4541d42.dl.dropboxusercontent.com)|162.125.1.6|:443... connected.\n",
            "HTTP request sent, awaiting response... 200 OK\n",
            "Length: 13247758075 (12G) [application/binary]\n",
            "Saving to: ‘file?_download_id=346808255851965499072072587377564530689523884605705987209136955651’\n",
            "\n",
            "file?_download_id=3 100%[===================>]  12.34G  51.9MB/s    in 4m 47s  \n",
            "\n",
            "2020-05-16 15:09:31 (44.0 MB/s) - ‘file?_download_id=346808255851965499072072587377564530689523884605705987209136955651’ saved [13247758075/13247758075]\n",
            "\n"
          ],
          "name": "stdout"
        }
      ]
    },
    {
      "cell_type": "code",
      "metadata": {
        "id": "Yz5Stm-V9tqP",
        "colab_type": "code",
        "colab": {}
      },
      "source": [
        "!mv /content/file?_download_id=346808255851965499072072587377564530689523884605705987209136955651 /content/faces_ms1m-refine-v2_112x112.zip"
      ],
      "execution_count": 0,
      "outputs": []
    },
    {
      "cell_type": "code",
      "metadata": {
        "id": "R0ygTIhj9tlV",
        "colab_type": "code",
        "colab": {
          "base_uri": "https://localhost:8080/",
          "height": 225
        },
        "outputId": "58964806-9fec-4e44-f1e5-2e9f4279d338"
      },
      "source": [
        "!unzip /content/faces_ms1m-refine-v2_112x112.zip"
      ],
      "execution_count": 16,
      "outputs": [
        {
          "output_type": "stream",
          "text": [
            "Archive:  /content/faces_ms1m-refine-v2_112x112.zip\n",
            "   creating: faces_emore/\n",
            "  inflating: faces_emore/property    \n",
            "  inflating: faces_emore/vgg2_fp.bin  \n",
            "  inflating: faces_emore/calfw.bin   \n",
            "  inflating: faces_emore/train.rec   \n",
            "  inflating: faces_emore/cplfw.bin   \n",
            "  inflating: faces_emore/agedb_30.bin  \n",
            "  inflating: faces_emore/train.idx   \n",
            "  inflating: faces_emore/cfp_fp.bin  \n",
            "  inflating: faces_emore/cfp_ff.bin  \n",
            "  inflating: faces_emore/lfw.bin     \n"
          ],
          "name": "stdout"
        }
      ]
    },
    {
      "cell_type": "markdown",
      "metadata": {
        "id": "efmkY04pbSPz",
        "colab_type": "text"
      },
      "source": [
        "**Downloading pretrained model!**"
      ]
    },
    {
      "cell_type": "code",
      "metadata": {
        "id": "iUALqNxM9s6I",
        "colab_type": "code",
        "colab": {
          "base_uri": "https://localhost:8080/",
          "height": 34
        },
        "outputId": "32a21120-7792-4f00-c36a-76226149f0a6"
      },
      "source": [
        "from google.colab import drive\n",
        "drive.mount('/content/drive')"
      ],
      "execution_count": 47,
      "outputs": [
        {
          "output_type": "stream",
          "text": [
            "Drive already mounted at /content/drive; to attempt to forcibly remount, call drive.mount(\"/content/drive\", force_remount=True).\n"
          ],
          "name": "stdout"
        }
      ]
    },
    {
      "cell_type": "code",
      "metadata": {
        "id": "lsXDFMqguR8u",
        "colab_type": "code",
        "colab": {
          "base_uri": "https://localhost:8080/",
          "height": 34
        },
        "outputId": "393d132a-e31d-4d48-e9f8-27d7ce2fcd6a"
      },
      "source": [
        "%cd /content/drive/My Drive/face_rec/"
      ],
      "execution_count": 48,
      "outputs": [
        {
          "output_type": "stream",
          "text": [
            "/content/drive/My Drive/face_rec\n"
          ],
          "name": "stdout"
        }
      ]
    },
    {
      "cell_type": "code",
      "metadata": {
        "id": "-X9a23t6ue6P",
        "colab_type": "code",
        "colab": {
          "base_uri": "https://localhost:8080/",
          "height": 34
        },
        "outputId": "af2a0ec0-6f1d-437b-c247-688f1c2a801d"
      },
      "source": [
        "!ls"
      ],
      "execution_count": 52,
      "outputs": [
        {
          "output_type": "stream",
          "text": [
            "config_ms1m_100_1006k  config.rar\n"
          ],
          "name": "stdout"
        }
      ]
    },
    {
      "cell_type": "code",
      "metadata": {
        "id": "KbIOk9hKug4T",
        "colab_type": "code",
        "colab": {
          "base_uri": "https://localhost:8080/",
          "height": 225
        },
        "outputId": "ac6d6d1f-8a5f-4b11-e614-20fcd5f80934"
      },
      "source": [
        "!unrar x config.rar"
      ],
      "execution_count": 51,
      "outputs": [
        {
          "output_type": "stream",
          "text": [
            "\n",
            "UNRAR 5.50 freeware      Copyright (c) 1993-2017 Alexander Roshal\n",
            "\n",
            "\n",
            "Extracting from config.rar\n",
            "\n",
            "Creating    config_ms1m_100_1006k                                     OK\n",
            "Extracting  config_ms1m_100_1006k/best-m-1006000.data-00000-of-00001     \b\b\b\b  0%\b\b\b\b  1%\b\b\b\b  2%\b\b\b\b  3%\b\b\b\b  4%\b\b\b\b  5%\b\b\b\b  6%\b\b\b\b  7%\b\b\b\b  8%\b\b\b\b  9%\b\b\b\b 10%\b\b\b\b 11%\b\b\b\b 12%\b\b\b\b 13%\b\b\b\b 14%\b\b\b\b 15%\b\b\b\b 16%\b\b\b\b 17%\b\b\b\b 18%\b\b\b\b 19%\b\b\b\b 20%\b\b\b\b 21%\b\b\b\b 22%\b\b\b\b 23%\b\b\b\b 24%\b\b\b\b 25%\b\b\b\b 26%\b\b\b\b 27%\b\b\b\b 28%\b\b\b\b 29%\b\b\b\b 30%\b\b\b\b 31%\b\b\b\b 32%\b\b\b\b 33%\b\b\b\b 34%\b\b\b\b 35%\b\b\b\b 36%\b\b\b\b 37%\b\b\b\b 38%\b\b\b\b 39%\b\b\b\b 40%\b\b\b\b 41%\b\b\b\b 42%\b\b\b\b 43%\b\b\b\b 44%\b\b\b\b 45%\b\b\b\b 46%\b\b\b\b 47%\b\b\b\b 48%\b\b\b\b 49%\b\b\b\b 50%\b\b\b\b 51%\b\b\b\b 52%\b\b\b\b 53%\b\b\b\b 54%\b\b\b\b 55%\b\b\b\b 56%\b\b\b\b 57%\b\b\b\b 58%\b\b\b\b 59%\b\b\b\b 60%\b\b\b\b 61%\b\b\b\b 62%\b\b\b\b 63%\b\b\b\b 64%\b\b\b\b 65%\b\b\b\b 66%\b\b\b\b 67%\b\b\b\b 68%\b\b\b\b 69%\b\b\b\b 70%\b\b\b\b 71%\b\b\b\b 72%\b\b\b\b 73%\b\b\b\b 74%\b\b\b\b 75%\b\b\b\b 76%\b\b\b\b 77%\b\b\b\b 78%\b\b\b\b 79%\b\b\b\b 80%\b\b\b\b 81%\b\b\b\b 82%\b\b\b\b 83%\b\b\b\b 84%\b\b\b\b 85%\b\b\b\b 86%\b\b\b\b 87%\b\b\b\b 88%\b\b\b\b 89%\b\b\b\b 90%\b\b\b\b 91%\b\b\b\b 92%\b\b\b\b 93%\b\b\b\b 94%\b\b\b\b 95%\b\b\b\b 96%\b\b\b\b 97%\b\b\b\b 98%\b\b\b\b 99%\b\b\b\b\b  OK \n",
            "Extracting  config_ms1m_100_1006k/best-m-1006000.index                   \b\b\b\b 99%\b\b\b\b\b  OK \n",
            "Extracting  config_ms1m_100_1006k/best-m-1006000.meta                    \b\b\b\b 99%\b\b\b\b\b  OK \n",
            "Extracting  config_ms1m_100_1006k/checkpoint                             \b\b\b\b 99%\b\b\b\b\b  OK \n",
            "All OK\n"
          ],
          "name": "stdout"
        }
      ]
    },
    {
      "cell_type": "code",
      "metadata": {
        "id": "372_zKxBulyv",
        "colab_type": "code",
        "colab": {}
      },
      "source": [
        "!cp config.rar /content/model/"
      ],
      "execution_count": 0,
      "outputs": []
    },
    {
      "cell_type": "code",
      "metadata": {
        "id": "G-pUezT5vENK",
        "colab_type": "code",
        "colab": {
          "base_uri": "https://localhost:8080/",
          "height": 52
        },
        "outputId": "d81b6141-f601-49b4-af3e-495eec51ecf8"
      },
      "source": [
        "%cd /content/model/\n",
        "!unrar x config.rar"
      ],
      "execution_count": 58,
      "outputs": [
        {
          "output_type": "stream",
          "text": [
            "/content/model\n",
            "config.rar\n"
          ],
          "name": "stdout"
        }
      ]
    },
    {
      "cell_type": "code",
      "metadata": {
        "id": "0J8oWvSKvRcQ",
        "colab_type": "code",
        "colab": {
          "base_uri": "https://localhost:8080/",
          "height": 225
        },
        "outputId": "31cc3393-2bba-44d1-da93-24b09548d448"
      },
      "source": [
        "!unrar x config.rar"
      ],
      "execution_count": 59,
      "outputs": [
        {
          "output_type": "stream",
          "text": [
            "\n",
            "UNRAR 5.50 freeware      Copyright (c) 1993-2017 Alexander Roshal\n",
            "\n",
            "\n",
            "Extracting from config.rar\n",
            "\n",
            "Creating    config_ms1m_100_1006k                                     OK\n",
            "Extracting  config_ms1m_100_1006k/best-m-1006000.data-00000-of-00001     \b\b\b\b  0%\b\b\b\b  1%\b\b\b\b  2%\b\b\b\b  3%\b\b\b\b  4%\b\b\b\b  5%\b\b\b\b  6%\b\b\b\b  7%\b\b\b\b  8%\b\b\b\b  9%\b\b\b\b 10%\b\b\b\b 11%\b\b\b\b 12%\b\b\b\b 13%\b\b\b\b 14%\b\b\b\b 15%\b\b\b\b 16%\b\b\b\b 17%\b\b\b\b 18%\b\b\b\b 19%\b\b\b\b 20%\b\b\b\b 21%\b\b\b\b 22%\b\b\b\b 23%\b\b\b\b 24%\b\b\b\b 25%\b\b\b\b 26%\b\b\b\b 27%\b\b\b\b 28%\b\b\b\b 29%\b\b\b\b 30%\b\b\b\b 31%\b\b\b\b 32%\b\b\b\b 33%\b\b\b\b 34%\b\b\b\b 35%\b\b\b\b 36%\b\b\b\b 37%\b\b\b\b 38%\b\b\b\b 39%\b\b\b\b 40%\b\b\b\b 41%\b\b\b\b 42%\b\b\b\b 43%\b\b\b\b 44%\b\b\b\b 45%\b\b\b\b 46%\b\b\b\b 47%\b\b\b\b 48%\b\b\b\b 49%\b\b\b\b 50%\b\b\b\b 51%\b\b\b\b 52%\b\b\b\b 53%\b\b\b\b 54%\b\b\b\b 55%\b\b\b\b 56%\b\b\b\b 57%\b\b\b\b 58%\b\b\b\b 59%\b\b\b\b 60%\b\b\b\b 61%\b\b\b\b 62%\b\b\b\b 63%\b\b\b\b 64%\b\b\b\b 65%\b\b\b\b 66%\b\b\b\b 67%\b\b\b\b 68%\b\b\b\b 69%\b\b\b\b 70%\b\b\b\b 71%\b\b\b\b 72%\b\b\b\b 73%\b\b\b\b 74%\b\b\b\b 75%\b\b\b\b 76%\b\b\b\b 77%\b\b\b\b 78%\b\b\b\b 79%\b\b\b\b 80%\b\b\b\b 81%\b\b\b\b 82%\b\b\b\b 83%\b\b\b\b 84%\b\b\b\b 85%\b\b\b\b 86%\b\b\b\b 87%\b\b\b\b 88%\b\b\b\b 89%\b\b\b\b 90%\b\b\b\b 91%\b\b\b\b 92%\b\b\b\b 93%\b\b\b\b 94%\b\b\b\b 95%\b\b\b\b 96%\b\b\b\b 97%\b\b\b\b 98%\b\b\b\b 99%\b\b\b\b\b  OK \n",
            "Extracting  config_ms1m_100_1006k/best-m-1006000.index                   \b\b\b\b 99%\b\b\b\b\b  OK \n",
            "Extracting  config_ms1m_100_1006k/best-m-1006000.meta                    \b\b\b\b 99%\b\b\b\b\b  OK \n",
            "Extracting  config_ms1m_100_1006k/checkpoint                             \b\b\b\b 99%\b\b\b\b\b  OK \n",
            "All OK\n"
          ],
          "name": "stdout"
        }
      ]
    },
    {
      "cell_type": "markdown",
      "metadata": {
        "id": "i4UTztgsbu3h",
        "colab_type": "text"
      },
      "source": [
        "**Training on own DATASET**"
      ]
    },
    {
      "cell_type": "code",
      "metadata": {
        "id": "q9Z_kkk6vp6v",
        "colab_type": "code",
        "colab": {
          "base_uri": "https://localhost:8080/",
          "height": 1000
        },
        "outputId": "14f8672b-3be0-4ef9-f84d-6d21b2ce24a9"
      },
      "source": [
        "%cd /content/InsightFace-tensorflow/\n",
        "!python train_softmax.py --config_path=/content/config.yaml\n"
      ],
      "execution_count": 62,
      "outputs": [
        {
          "output_type": "stream",
          "text": [
            "/content/InsightFace-tensorflow\n",
            "WARNING:tensorflow:\n",
            "The TensorFlow contrib module will not be included in TensorFlow 2.0.\n",
            "For more information, please see:\n",
            "  * https://github.com/tensorflow/community/blob/master/rfcs/20180907-contrib-sunset.md\n",
            "  * https://github.com/tensorflow/addons\n",
            "  * https://github.com/tensorflow/io (for I/O related ops)\n",
            "If you depend on functionality not listed there, please file an issue.\n",
            "\n",
            "WARNING:tensorflow:From /content/InsightFace-tensorflow/backbones/utils.py:81: The name tf.GraphKeys is deprecated. Please use tf.compat.v1.GraphKeys instead.\n",
            "\n",
            "WARNING:tensorflow:From train_softmax.py:70: The name tf.placeholder is deprecated. Please use tf.compat.v1.placeholder instead.\n",
            "\n",
            "WARNING:tensorflow:From train_softmax.py:73: The name tf.assign_add is deprecated. Please use tf.compat.v1.assign_add instead.\n",
            "\n",
            "WARNING:tensorflow:From train_softmax.py:78: The name tf.train.piecewise_constant is deprecated. Please use tf.compat.v1.train.piecewise_constant instead.\n",
            "\n",
            "WARNING:tensorflow:Entity <bound method ClassificationImageData.parse_function of <data.classificationDataTool.ClassificationImageData object at 0x7f96f7f5cf98>> could not be transformed and will be executed as-is. Please report this to the AutoGraph team. When filing the bug, set the verbosity to 10 (on Linux, `export AUTOGRAPH_VERBOSITY=10`) and attach the full output. Cause: module 'gast' has no attribute 'Num'\n",
            "WARNING:tensorflow:From /content/InsightFace-tensorflow/data/classificationDataTool.py:126: The name tf.FixedLenFeature is deprecated. Please use tf.io.FixedLenFeature instead.\n",
            "\n",
            "WARNING:tensorflow:From /content/InsightFace-tensorflow/data/classificationDataTool.py:130: The name tf.parse_single_example is deprecated. Please use tf.io.parse_single_example instead.\n",
            "\n",
            "WARNING:tensorflow:From /content/InsightFace-tensorflow/data/classificationDataTool.py:53: The name tf.image.resize_images is deprecated. Please use tf.image.resize instead.\n",
            "\n",
            "2020-05-16 19:13:40.590345: I tensorflow/stream_executor/platform/default/dso_loader.cc:44] Successfully opened dynamic library libcuda.so.1\n",
            "2020-05-16 19:13:40.592791: E tensorflow/stream_executor/cuda/cuda_driver.cc:318] failed call to cuInit: CUDA_ERROR_NO_DEVICE: no CUDA-capable device is detected\n",
            "2020-05-16 19:13:40.592854: I tensorflow/stream_executor/cuda/cuda_diagnostics.cc:156] kernel driver does not appear to be running on this host (367a1076ce4a): /proc/driver/nvidia/version does not exist\n",
            "WARNING:tensorflow:From train_softmax.py:82: DatasetV1.make_one_shot_iterator (from tensorflow.python.data.ops.dataset_ops) is deprecated and will be removed in a future version.\n",
            "Instructions for updating:\n",
            "Use `for ... in dataset:` to iterate over a dataset. If using `tf.estimator`, return the `Dataset` object directly from your input function. As a last resort, you can use `tf.compat.v1.data.make_one_shot_iterator(dataset)`.\n",
            "WARNING:tensorflow:From /content/InsightFace-tensorflow/model.py:8: The name tf.variable_scope is deprecated. Please use tf.compat.v1.variable_scope instead.\n",
            "\n",
            "WARNING:tensorflow:From /tensorflow-1.15.2/python3.6/tensorflow_core/contrib/layers/python/layers/layers.py:1057: Layer.apply (from tensorflow.python.keras.engine.base_layer) is deprecated and will be removed in a future version.\n",
            "Instructions for updating:\n",
            "Please use `layer.__call__` method instead.\n",
            "WARNING:tensorflow:Large dropout rate: 0.6 (>0.5). In TensorFlow 2.x, dropout() uses dropout rate instead of keep_prob. Please ensure that this is intended.\n",
            "WARNING:tensorflow:From /tensorflow-1.15.2/python3.6/tensorflow_core/contrib/layers/python/layers/layers.py:1634: flatten (from tensorflow.python.layers.core) is deprecated and will be removed in a future version.\n",
            "Instructions for updating:\n",
            "Use keras.layers.flatten instead.\n",
            "WARNING:tensorflow:From /content/InsightFace-tensorflow/losses/logit_loss.py:12: The name tf.get_variable is deprecated. Please use tf.compat.v1.get_variable instead.\n",
            "\n",
            "WARNING:tensorflow:From /content/InsightFace-tensorflow/losses/logit_loss.py:41: where (from tensorflow.python.ops.array_ops) is deprecated and will be removed in a future version.\n",
            "Instructions for updating:\n",
            "Use tf.where in 2.0, which has the same broadcast rule as np.where\n",
            "WARNING:tensorflow:From train_softmax.py:89: sparse_softmax_cross_entropy (from tensorflow.contrib.losses.python.losses.loss_ops) is deprecated and will be removed after 2016-12-30.\n",
            "Instructions for updating:\n",
            "Use tf.losses.sparse_softmax_cross_entropy instead. Note that the order of the logits and labels arguments has been changed.\n",
            "WARNING:tensorflow:From /tensorflow-1.15.2/python3.6/tensorflow_core/contrib/losses/python/losses/loss_ops.py:409: compute_weighted_loss (from tensorflow.contrib.losses.python.losses.loss_ops) is deprecated and will be removed after 2016-12-30.\n",
            "Instructions for updating:\n",
            "Use tf.losses.compute_weighted_loss instead.\n",
            "WARNING:tensorflow:From /tensorflow-1.15.2/python3.6/tensorflow_core/contrib/losses/python/losses/loss_ops.py:152: div (from tensorflow.python.ops.math_ops) is deprecated and will be removed in a future version.\n",
            "Instructions for updating:\n",
            "Deprecated in favor of operator or tf.math.divide.\n",
            "WARNING:tensorflow:From /tensorflow-1.15.2/python3.6/tensorflow_core/contrib/losses/python/losses/loss_ops.py:121: add_loss (from tensorflow.contrib.losses.python.losses.loss_ops) is deprecated and will be removed after 2016-12-30.\n",
            "Instructions for updating:\n",
            "Use tf.losses.add_loss instead.\n",
            "WARNING:tensorflow:From train_softmax.py:90: The name tf.get_collection is deprecated. Please use tf.compat.v1.get_collection instead.\n",
            "\n",
            "WARNING:tensorflow:From train_softmax.py:92: The name tf.arg_max is deprecated. Please use tf.argmax instead.\n",
            "\n",
            "WARNING:tensorflow:From train_softmax.py:96: The name tf.train.MomentumOptimizer is deprecated. Please use tf.compat.v1.train.MomentumOptimizer instead.\n",
            "\n",
            "WARNING:tensorflow:From train_softmax.py:138: The name tf.summary.merge is deprecated. Please use tf.compat.v1.summary.merge instead.\n",
            "\n",
            "WARNING:tensorflow:From train_softmax.py:139: The name tf.summary.scalar is deprecated. Please use tf.compat.v1.summary.scalar instead.\n",
            "\n",
            "WARNING:tensorflow:From train_softmax.py:170: The name tf.trainable_variables is deprecated. Please use tf.compat.v1.trainable_variables instead.\n",
            "\n",
            "WARNING:tensorflow:From train_softmax.py:175: The name tf.ConfigProto is deprecated. Please use tf.compat.v1.ConfigProto instead.\n",
            "\n",
            "WARNING:tensorflow:From train_softmax.py:177: The name tf.Session is deprecated. Please use tf.compat.v1.Session instead.\n",
            "\n",
            "2020-05-16 19:13:48.564698: I tensorflow/core/platform/profile_utils/cpu_utils.cc:94] CPU Frequency: 2200000000 Hz\n",
            "2020-05-16 19:13:48.564951: I tensorflow/compiler/xla/service/service.cc:168] XLA service 0x23a99c0 initialized for platform Host (this does not guarantee that XLA will be used). Devices:\n",
            "2020-05-16 19:13:48.564990: I tensorflow/compiler/xla/service/service.cc:176]   StreamExecutor device (0): Host, Default Version\n",
            "WARNING:tensorflow:From train_softmax.py:178: The name tf.global_variables_initializer is deprecated. Please use tf.compat.v1.global_variables_initializer instead.\n",
            "\n",
            "WARNING:tensorflow:From train_softmax.py:179: The name tf.train.Saver is deprecated. Please use tf.compat.v1.train.Saver instead.\n",
            "\n",
            "WARNING:tensorflow:From train_softmax.py:181: The name tf.summary.FileWriter is deprecated. Please use tf.compat.v1.summary.FileWriter instead.\n",
            "\n",
            "WARNING:tensorflow:From train_softmax.py:188: The name tf.assign is deprecated. Please use tf.compat.v1.assign instead.\n",
            "\n",
            "start step: 1006000\n",
            "Epoch: [ 0/20] [     0/   200] time: 29.98, loss: 56.852 (inference: 55.040, wd: 1.812), acc: 0.000\n",
            "Epoch: [ 0/20] [     1/   200] time: 5.31, loss: 59.148 (inference: 57.336, wd: 1.812), acc: 0.000\n",
            "Epoch: [ 0/20] [     2/   200] time: 15.16, loss: 57.130 (inference: 55.318, wd: 1.812), acc: 0.000\n",
            "Epoch: [ 0/20] [     3/   200] time: 5.22, loss: 59.012 (inference: 57.200, wd: 1.812), acc: 0.000\n",
            "Epoch: [ 0/20] [     4/   200] time: 5.24, loss: 64.580 (inference: 62.768, wd: 1.812), acc: 0.000\n",
            "Epoch: [ 0/20] [     5/   200] time: 5.10, loss: 61.903 (inference: 60.090, wd: 1.812), acc: 0.000\n",
            "Epoch: [ 0/20] [     6/   200] time: 5.12, loss: 63.893 (inference: 62.081, wd: 1.812), acc: 0.000\n",
            "Epoch: [ 0/20] [     7/   200] time: 5.14, loss: 61.906 (inference: 60.093, wd: 1.812), acc: 0.000\n",
            "Epoch: [ 0/20] [     8/   200] time: 5.10, loss: 61.042 (inference: 59.230, wd: 1.812), acc: 0.000\n",
            "Epoch: [ 0/20] [     9/   200] time: 5.02, loss: 57.713 (inference: 55.901, wd: 1.812), acc: 0.000\n",
            "Epoch: [ 0/20] [    10/   200] time: 5.07, loss: 59.310 (inference: 57.498, wd: 1.812), acc: 0.000\n",
            "Epoch: [ 0/20] [    11/   200] time: 5.10, loss: 61.563 (inference: 59.750, wd: 1.812), acc: 0.000\n",
            "Epoch: [ 0/20] [    12/   200] time: 5.07, loss: 64.370 (inference: 62.558, wd: 1.812), acc: 0.000\n",
            "Epoch: [ 0/20] [    13/   200] time: 5.08, loss: 58.521 (inference: 56.709, wd: 1.812), acc: 0.000\n",
            "Epoch: [ 0/20] [    14/   200] time: 5.07, loss: 54.271 (inference: 52.459, wd: 1.812), acc: 0.000\n",
            "Epoch: [ 0/20] [    15/   200] time: 5.06, loss: 58.140 (inference: 56.328, wd: 1.812), acc: 0.000\n",
            "Epoch: [ 0/20] [    16/   200] time: 5.10, loss: 64.184 (inference: 62.372, wd: 1.812), acc: 0.000\n",
            "Epoch: [ 0/20] [    17/   200] time: 5.05, loss: 58.722 (inference: 56.909, wd: 1.812), acc: 0.000\n",
            "Epoch: [ 0/20] [    18/   200] time: 5.05, loss: 57.153 (inference: 55.341, wd: 1.812), acc: 0.000\n",
            "Epoch: [ 0/20] [    19/   200] time: 5.11, loss: 56.765 (inference: 54.953, wd: 1.812), acc: 0.000\n",
            "reading /content/faces_emore/agedb_30.bin\n",
            "tcmalloc: large alloc 1806336000 bytes == 0x94dec000 @  0x7f96f9eae001 0x7f96f7992765 0x7f96f79f6bb0 0x7f96f79f8a4f 0x7f96f7a8f048 0x50a635 0x50cd96 0x509758 0x50a48d 0x50bfb4 0x509758 0x50a48d 0x50bfb4 0x507d64 0x50ae13 0x634c82 0x634d37 0x6384ef 0x639091 0x4b0d00 0x7f96f9aa9b97 0x5b250a\n",
            "tcmalloc: large alloc 1806336000 bytes == 0x100894000 @  0x7f96f9eae001 0x7f96f7992765 0x7f96f79f6bb0 0x7f96f79f8a4f 0x7f96f7a8f048 0x50a635 0x50cd96 0x509758 0x50a48d 0x50bfb4 0x509758 0x50a48d 0x50bfb4 0x507d64 0x50ae13 0x634c82 0x634d37 0x6384ef 0x639091 0x4b0d00 0x7f96f9aa9b97 0x5b250a\n",
            "done!\n",
            "reading /content/faces_emore/lfw.bin\n",
            "tcmalloc: large alloc 1806336000 bytes == 0x1a695c000 @  0x7f96f9eae001 0x7f96f7992765 0x7f96f79f6bb0 0x7f96f79f8a4f 0x7f96f7a8f048 0x50a635 0x50cd96 0x509758 0x50a48d 0x50bfb4 0x509758 0x50a48d 0x50bfb4 0x507d64 0x50ae13 0x634c82 0x634d37 0x6384ef 0x639091 0x4b0d00 0x7f96f9aa9b97 0x5b250a\n",
            "tcmalloc: large alloc 1806336000 bytes == 0x212404000 @  0x7f96f9eae001 0x7f96f7992765 0x7f96f79f6bb0 0x7f96f79f8a4f 0x7f96f7a8f048 0x50a635 0x50cd96 0x509758 0x50a48d 0x50bfb4 0x509758 0x50a48d 0x50bfb4 0x507d64 0x50ae13 0x634c82 0x634d37 0x6384ef 0x639091 0x4b0d00 0x7f96f9aa9b97 0x5b250a\n",
            "done!\n",
            "Traceback (most recent call last):\n",
            "  File \"train_softmax.py\", line 231, in <module>\n",
            "    trainer.train()\n",
            "  File \"train_softmax.py\", line 215, in train\n",
            "    embds = self.run_embds(sess, imgs)\n",
            "  File \"train_softmax.py\", line 150, in run_embds\n",
            "    cur_embd = sess.run(self.embds, feed_dict={self.train_images: images[i*self.batch_size: (i+1)*self.batch_size], self.train_phase_dropout: False, self.train_phase_bn: self.val_bn_train})\n",
            "  File \"/tensorflow-1.15.2/python3.6/tensorflow_core/python/client/session.py\", line 956, in run\n",
            "    run_metadata_ptr)\n",
            "  File \"/tensorflow-1.15.2/python3.6/tensorflow_core/python/client/session.py\", line 1180, in _run\n",
            "    feed_dict_tensor, options, run_metadata)\n",
            "  File \"/tensorflow-1.15.2/python3.6/tensorflow_core/python/client/session.py\", line 1359, in _do_run\n",
            "    run_metadata)\n",
            "  File \"/tensorflow-1.15.2/python3.6/tensorflow_core/python/client/session.py\", line 1365, in _do_call\n",
            "    return fn(*args)\n",
            "  File \"/tensorflow-1.15.2/python3.6/tensorflow_core/python/client/session.py\", line 1350, in _run_fn\n",
            "    target_list, run_metadata)\n",
            "  File \"/tensorflow-1.15.2/python3.6/tensorflow_core/python/client/session.py\", line 1443, in _call_tf_sessionrun\n",
            "    run_metadata)\n",
            "KeyboardInterrupt\n"
          ],
          "name": "stdout"
        }
      ]
    },
    {
      "cell_type": "code",
      "metadata": {
        "id": "DnJqxq7ewJkd",
        "colab_type": "code",
        "colab": {}
      },
      "source": [
        "python evaluate.py \n",
        "--config_path=/content/config.yaml\n",
        "--model_path=/content/model/config_ms1m_100_1006k/best-m-1006000\n",
        "--val_data="
      ],
      "execution_count": 0,
      "outputs": []
    },
    {
      "cell_type": "code",
      "metadata": {
        "id": "Nig8_f6BXoZ2",
        "colab_type": "code",
        "colab": {
          "base_uri": "https://localhost:8080/",
          "height": 34
        },
        "outputId": "64beb89f-5a43-49bf-967e-f6937701382e"
      },
      "source": [
        "!pwd"
      ],
      "execution_count": 68,
      "outputs": [
        {
          "output_type": "stream",
          "text": [
            "/content/InsightFace-tensorflow\n"
          ],
          "name": "stdout"
        }
      ]
    },
    {
      "cell_type": "code",
      "metadata": {
        "id": "SaiOCqnqxPNM",
        "colab_type": "code",
        "colab": {
          "base_uri": "https://localhost:8080/",
          "height": 973
        },
        "outputId": "20d6f025-9f07-4301-c325-81cc42c177fc"
      },
      "source": [
        "!python get_embd.py --config_path=/content/config.yaml --model_path=/content/model/config_ms1m_100_1006k/best-m-1006000 --read_path=/content/dataset/ --save_path=/content/embd.pkl"
      ],
      "execution_count": 72,
      "outputs": [
        {
          "output_type": "stream",
          "text": [
            "WARNING:tensorflow:\n",
            "The TensorFlow contrib module will not be included in TensorFlow 2.0.\n",
            "For more information, please see:\n",
            "  * https://github.com/tensorflow/community/blob/master/rfcs/20180907-contrib-sunset.md\n",
            "  * https://github.com/tensorflow/addons\n",
            "  * https://github.com/tensorflow/io (for I/O related ops)\n",
            "If you depend on functionality not listed there, please file an issue.\n",
            "\n",
            "WARNING:tensorflow:From /content/InsightFace-tensorflow/backbones/utils.py:81: The name tf.GraphKeys is deprecated. Please use tf.compat.v1.GraphKeys instead.\n",
            "\n",
            "building...\n",
            "WARNING:tensorflow:From get_embd.py:92: The name tf.placeholder is deprecated. Please use tf.compat.v1.placeholder instead.\n",
            "\n",
            "WARNING:tensorflow:From /content/InsightFace-tensorflow/model.py:8: The name tf.variable_scope is deprecated. Please use tf.compat.v1.variable_scope instead.\n",
            "\n",
            "WARNING:tensorflow:From /tensorflow-1.15.2/python3.6/tensorflow_core/contrib/layers/python/layers/layers.py:1057: Layer.apply (from tensorflow.python.keras.engine.base_layer) is deprecated and will be removed in a future version.\n",
            "Instructions for updating:\n",
            "Please use `layer.__call__` method instead.\n",
            "WARNING:tensorflow:Large dropout rate: 0.6 (>0.5). In TensorFlow 2.x, dropout() uses dropout rate instead of keep_prob. Please ensure that this is intended.\n",
            "WARNING:tensorflow:From /tensorflow-1.15.2/python3.6/tensorflow_core/contrib/layers/python/layers/layers.py:1634: flatten (from tensorflow.python.layers.core) is deprecated and will be removed in a future version.\n",
            "Instructions for updating:\n",
            "Use keras.layers.flatten instead.\n",
            "done!\n",
            "WARNING:tensorflow:From get_embd.py:97: The name tf.ConfigProto is deprecated. Please use tf.compat.v1.ConfigProto instead.\n",
            "\n",
            "WARNING:tensorflow:From get_embd.py:99: The name tf.Session is deprecated. Please use tf.compat.v1.Session instead.\n",
            "\n",
            "2020-05-16 21:30:01.756974: I tensorflow/core/platform/profile_utils/cpu_utils.cc:94] CPU Frequency: 2200000000 Hz\n",
            "2020-05-16 21:30:01.757262: I tensorflow/compiler/xla/service/service.cc:168] XLA service 0x1e6cd80 initialized for platform Host (this does not guarantee that XLA will be used). Devices:\n",
            "2020-05-16 21:30:01.757302: I tensorflow/compiler/xla/service/service.cc:176]   StreamExecutor device (0): Host, Default Version\n",
            "2020-05-16 21:30:01.760006: I tensorflow/stream_executor/platform/default/dso_loader.cc:44] Successfully opened dynamic library libcuda.so.1\n",
            "2020-05-16 21:30:01.761969: E tensorflow/stream_executor/cuda/cuda_driver.cc:318] failed call to cuInit: CUDA_ERROR_NO_DEVICE: no CUDA-capable device is detected\n",
            "2020-05-16 21:30:01.762004: I tensorflow/stream_executor/cuda/cuda_diagnostics.cc:156] kernel driver does not appear to be running on this host (367a1076ce4a): /proc/driver/nvidia/version does not exist\n",
            "WARNING:tensorflow:From get_embd.py:100: The name tf.global_variables_initializer is deprecated. Please use tf.compat.v1.global_variables_initializer instead.\n",
            "\n",
            "loading...\n",
            "WARNING:tensorflow:From get_embd.py:102: The name tf.train.Saver is deprecated. Please use tf.compat.v1.train.Saver instead.\n",
            "\n",
            "WARNING:tensorflow:From get_embd.py:102: The name tf.trainable_variables is deprecated. Please use tf.compat.v1.trainable_variables instead.\n",
            "\n",
            "done!\n",
            "reading /content/dataset/\n",
            "Traceback (most recent call last):\n",
            "  File \"get_embd.py\", line 107, in <module>\n",
            "    imgs, imgs_f, fns = load_image(args.read_path, config['image_size'])\n",
            "  File \"get_embd.py\", line 37, in load_image\n",
            "    img = misc.imread(path)\n",
            "  File \"/usr/local/lib/python3.6/dist-packages/numpy/lib/utils.py\", line 101, in newfunc\n",
            "    return func(*args, **kwds)\n",
            "  File \"/usr/local/lib/python3.6/dist-packages/scipy/misc/pilutil.py\", line 164, in imread\n",
            "    im = Image.open(name)\n",
            "  File \"/usr/local/lib/python3.6/dist-packages/PIL/Image.py\", line 2809, in open\n",
            "    fp = builtins.open(filename, \"rb\")\n",
            "FileNotFoundError: [Errno 2] No such file or directory: 'shewag'\n"
          ],
          "name": "stdout"
        }
      ]
    },
    {
      "cell_type": "code",
      "metadata": {
        "id": "zU3kNgz45o7O",
        "colab_type": "code",
        "colab": {
          "base_uri": "https://localhost:8080/",
          "height": 52
        },
        "outputId": "a3f55334-9adf-4f72-b7b1-38ce65012fc6"
      },
      "source": [
        "!ls /content/dataset/dhoni/"
      ],
      "execution_count": 71,
      "outputs": [
        {
          "output_type": "stream",
          "text": [
            "dhoni-10.jpg  dhoni-2.jpeg  dhoni-4.jpeg  dhoni-6.jpg\tdhoni-8.jpg\n",
            "dhoni-1.jpeg  dhoni-3.jpeg  dhoni-5.jpeg  dhoni-7.jpeg\tdhoni-9.jpg\n"
          ],
          "name": "stdout"
        }
      ]
    },
    {
      "cell_type": "code",
      "metadata": {
        "id": "CCf9Rl-9ZDuW",
        "colab_type": "code",
        "colab": {}
      },
      "source": [
        ""
      ],
      "execution_count": 0,
      "outputs": []
    }
  ]
}